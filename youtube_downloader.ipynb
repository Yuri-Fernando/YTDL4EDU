{
 "cells": [
  {
   "cell_type": "code",
   "execution_count": 6,
   "id": "cda850c8",
   "metadata": {},
   "outputs": [
    {
     "name": "stdout",
     "output_type": "stream",
     "text": [
      "[youtube] Extracting URL: https://www.youtube.com/live/-WZicF3xE40\n",
      "[youtube] -WZicF3xE40: Downloading webpage\n",
      "[youtube] -WZicF3xE40: Downloading tv client config\n",
      "[youtube] -WZicF3xE40: Downloading tv player API JSON\n",
      "[youtube] -WZicF3xE40: Downloading ios player API JSON\n",
      "[youtube] -WZicF3xE40: Downloading player fc2a56a5-main\n",
      "[youtube] -WZicF3xE40: Downloading m3u8 information\n",
      "[info] -WZicF3xE40: Downloading 1 format(s): 625+234\n",
      "[hlsnative] Downloading m3u8 manifest\n",
      "[hlsnative] Total fragments: 1046\n",
      "[download] Destination: C:\\Users\\Yuri_\\Downloads\\Gere posts virais pra redes sociais em segundos com esse Agente de IA ｜ 🧠 IA com ChatGPT - Aula 1.f625.mp4\n",
      "[download]   1.9% of ~   3.16GiB at    3.09MiB/s ETA 16:13 (frag 21/1046) "
     ]
    },
    {
     "ename": "",
     "evalue": "",
     "output_type": "error",
     "traceback": [
      "\u001b[1;31mThe Kernel crashed while executing code in the current cell or a previous cell. \n",
      "\u001b[1;31mPlease review the code in the cell(s) to identify a possible cause of the failure. \n",
      "\u001b[1;31mClick <a href='https://aka.ms/vscodeJupyterKernelCrash'>here</a> for more info. \n",
      "\u001b[1;31mView Jupyter <a href='command:jupyter.viewOutput'>log</a> for further details."
     ]
    }
   ],
   "source": [
    "import os\n",
    "from pathlib import Path\n",
    "import yt_dlp\n",
    "import imageio_ffmpeg\n",
    "\n",
    "def baixar_video_youtube(url):\n",
    "    # Pega o caminho da pasta Downloads do usuário\n",
    "    downloads_path = Path.home() / \"Downloads\"\n",
    "    \n",
    "    # Configuração do yt-dlp\n",
    "    ydl_opts = {\n",
    "        'ffmpeg_location': imageio_ffmpeg.get_ffmpeg_exe(),\n",
    "        'format': 'bestvideo+bestaudio/best',\n",
    "        'outtmpl': str(downloads_path / '%(title)s.%(ext)s'),  # Salva com título do vídeo\n",
    "        'noplaylist': True,  # Só baixa um vídeo, não playlist\n",
    "        'quiet': False,\n",
    "        'no_warnings': True,\n",
    "    }\n",
    "    \n",
    "    with yt_dlp.YoutubeDL(ydl_opts) as ydl:\n",
    "        ydl.download([url])\n",
    "\n",
    "if __name__ == \"__main__\":\n",
    "    link = input(\"Cola o link do vídeo do YouTube: \")\n",
    "    baixar_video_youtube(link)"
   ]
  },
  {
   "cell_type": "code",
   "execution_count": 12,
   "id": "993afc8a",
   "metadata": {},
   "outputs": [
    {
     "name": "stdout",
     "output_type": "stream",
     "text": [
      "\n",
      "Formatos disponíveis:\n",
      "[youtube] Extracting URL: https://www.youtube.com/live/-WZicF3xE40\n",
      "[youtube] -WZicF3xE40: Downloading webpage\n",
      "[youtube] -WZicF3xE40: Downloading tv client config\n",
      "[youtube] -WZicF3xE40: Downloading tv player API JSON\n",
      "[youtube] -WZicF3xE40: Downloading ios player API JSON\n",
      "[youtube] -WZicF3xE40: Downloading player fc2a56a5-main\n"
     ]
    },
    {
     "name": "stderr",
     "output_type": "stream",
     "text": [
      "WARNING: [youtube] Falling back to generic n function search\n",
      "         player = https://www.youtube.com/s/player/fc2a56a5/player_ias.vflset/en_US/base.js\n",
      "WARNING: [youtube] -WZicF3xE40: nsig extraction failed: Some formats may be missing\n",
      "         n = AJe7x3GIqqRf8b7 ; player = https://www.youtube.com/s/player/fc2a56a5/player_ias.vflset/en_US/base.js\n",
      "         Please report this issue on  https://github.com/yt-dlp/yt-dlp/issues?q= , filling out the appropriate issue template. Confirm you are on the latest version using  yt-dlp -U\n",
      "WARNING: [youtube] -WZicF3xE40: nsig extraction failed: Some formats may be missing\n",
      "         n = FnUkHFP6csUDyIQ ; player = https://www.youtube.com/s/player/fc2a56a5/player_ias.vflset/en_US/base.js\n",
      "         Please report this issue on  https://github.com/yt-dlp/yt-dlp/issues?q= , filling out the appropriate issue template. Confirm you are on the latest version using  yt-dlp -U\n",
      "WARNING: [youtube] -WZicF3xE40: nsig extraction failed: Some formats may be missing\n",
      "         n = G0HrMCXKp2m7vXZ ; player = https://www.youtube.com/s/player/fc2a56a5/player_ias.vflset/en_US/base.js\n",
      "         Please report this issue on  https://github.com/yt-dlp/yt-dlp/issues?q= , filling out the appropriate issue template. Confirm you are on the latest version using  yt-dlp -U\n",
      "WARNING: [youtube] -WZicF3xE40: Some web client https formats have been skipped as they are missing a url. YouTube is forcing SABR streaming for this client. See  https://github.com/yt-dlp/yt-dlp/issues/12482  for more details\n"
     ]
    },
    {
     "name": "stdout",
     "output_type": "stream",
     "text": [
      "[youtube] -WZicF3xE40: Downloading m3u8 information\n",
      "ID: 602 | Resolução: 144p | Tamanho: 59.24 MB | Extensão: mp4\n",
      "ID: 269 | Resolução: 144p | Tamanho: 80.49 MB | Extensão: mp4\n",
      "ID: 603 | Resolução: 144p | Tamanho: 90.91 MB | Extensão: mp4\n",
      "ID: 229 | Resolução: 240p | Tamanho: 137.83 MB | Extensão: mp4\n",
      "ID: 604 | Resolução: 240p | Tamanho: 113.08 MB | Extensão: mp4\n",
      "ID: 230 | Resolução: 360p | Tamanho: 271.19 MB | Extensão: mp4\n",
      "ID: 605 | Resolução: 360p | Tamanho: 220.64 MB | Extensão: mp4\n",
      "ID: 231 | Resolução: 480p | Tamanho: 400.28 MB | Extensão: mp4\n",
      "ID: 606 | Resolução: 480p | Tamanho: 300.99 MB | Extensão: mp4\n",
      "ID: 232 | Resolução: 720p | Tamanho: 697.57 MB | Extensão: mp4\n",
      "ID: 609 | Resolução: 720p | Tamanho: 535.04 MB | Extensão: mp4\n",
      "ID: 270 | Resolução: 1080p | Tamanho: 1486.99 MB | Extensão: mp4\n",
      "ID: 614 | Resolução: 1080p | Tamanho: 1489.59 MB | Extensão: mp4\n",
      "ID: 620 | Resolução: 1440p | Tamanho: 6402.99 MB | Extensão: mp4\n",
      "ID: 625 | Resolução: 2160p | Tamanho: 13563.18 MB | Extensão: mp4\n",
      "\n",
      "Baixando usando format: bestvideo[height<=605]+bestaudio/best[height<=605]\n",
      "[youtube] Extracting URL: https://www.youtube.com/live/-WZicF3xE40\n",
      "[youtube] -WZicF3xE40: Downloading webpage\n",
      "[youtube] -WZicF3xE40: Downloading tv client config\n",
      "[youtube] -WZicF3xE40: Downloading tv player API JSON\n",
      "[youtube] -WZicF3xE40: Downloading ios player API JSON\n",
      "[youtube] -WZicF3xE40: Downloading player fc2a56a5-main\n",
      "[youtube] -WZicF3xE40: Downloading m3u8 information\n",
      "[info] -WZicF3xE40: Downloading 1 format(s): 606+234\n",
      "[hlsnative] Downloading m3u8 manifest\n",
      "[hlsnative] Total fragments: 1046\n",
      "[download] Destination: C:\\Users\\Yuri_\\Downloads\\Gere posts virais pra redes sociais em segundos com esse Agente de IA ｜ 🧠 IA com ChatGPT - Aula 1.f606.mp4\n",
      "[download] 100% of   84.46MiB in 00:02:02 at 703.79KiB/s                   \n",
      "[hlsnative] Downloading m3u8 manifest\n",
      "[hlsnative] Total fragments: 1046\n",
      "[download] Destination: C:\\Users\\Yuri_\\Downloads\\Gere posts virais pra redes sociais em segundos com esse Agente de IA ｜ 🧠 IA com ChatGPT - Aula 1.f234.mp4\n",
      "[download] 100% of   81.38MiB in 00:01:14 at 1.09MiB/s                     \n",
      "[Merger] Merging formats into \"C:\\Users\\Yuri_\\Downloads\\Gere posts virais pra redes sociais em segundos com esse Agente de IA ｜ 🧠 IA com ChatGPT - Aula 1.mp4\"\n",
      "Deleting original file C:\\Users\\Yuri_\\Downloads\\Gere posts virais pra redes sociais em segundos com esse Agente de IA ｜ 🧠 IA com ChatGPT - Aula 1.f606.mp4 (pass -k to keep)\n",
      "Deleting original file C:\\Users\\Yuri_\\Downloads\\Gere posts virais pra redes sociais em segundos com esse Agente de IA ｜ 🧠 IA com ChatGPT - Aula 1.f234.mp4 (pass -k to keep)\n"
     ]
    }
   ],
   "source": [
    "from pathlib import Path\n",
    "import yt_dlp\n",
    "import imageio_ffmpeg\n",
    "\n",
    "def listar_formatos(url):\n",
    "    with yt_dlp.YoutubeDL({}) as ydl:\n",
    "        info = ydl.extract_info(url, download=False)\n",
    "        formatos = info.get('formats', [])\n",
    "        duracao = info.get('duration') or 0\n",
    "\n",
    "        for f in formatos:\n",
    "            if f.get('vcodec') != 'none':  # Só vídeo\n",
    "                # Tenta pegar o tamanho direto\n",
    "                tamanho = f.get('filesize') or f.get('filesize_approx')\n",
    "                \n",
    "                # Se não tiver, estima via bitrate e duração\n",
    "                if not tamanho and f.get('tbr') and duracao:\n",
    "                    bitrate_bps = f['tbr'] * 1000  # kbps -> bps\n",
    "                    tamanho = int((bitrate_bps / 8) * duracao)  # bits -> bytes\n",
    "\n",
    "                tamanho_mb = tamanho / (1024*1024) if tamanho else 0\n",
    "                print(f\"ID: {f['format_id']} | Resolução: {f.get('height', 'N/A')}p | Tamanho: {tamanho_mb:.2f} MB | Extensão: {f['ext']}\")\n",
    "\n",
    "def baixar_video(url, format_str):\n",
    "    downloads_path = Path.home() / \"Downloads\"\n",
    "    ydl_opts = {\n",
    "        'ffmpeg_location': imageio_ffmpeg.get_ffmpeg_exe(),\n",
    "        'format': format_str,\n",
    "        'outtmpl': str(downloads_path / '%(title)s.%(ext)s'),\n",
    "        'noplaylist': True,\n",
    "        'quiet': False,\n",
    "        'no_warnings': True,\n",
    "        'merge_output_format': 'mp4',\n",
    "    }\n",
    "    with yt_dlp.YoutubeDL(ydl_opts) as ydl:\n",
    "        ydl.download([url])\n",
    "\n",
    "if __name__ == \"__main__\":\n",
    "    url = input(\"Cole o link do vídeo do YouTube: \")\n",
    "    print(\"\\nFormatos disponíveis:\")\n",
    "    listar_formatos(url)\n",
    "    \n",
    "    escolha = input(\"\\nDigite o ID do formato desejado (ex: 137), ou digite uma altura máxima (ex: 720): \").strip()\n",
    "    \n",
    "    if escolha.isdigit():\n",
    "        format_str = f\"bestvideo[height<={escolha}]+bestaudio/best[height<={escolha}]\"\n",
    "    else:\n",
    "        format_str = escolha\n",
    "\n",
    "    print(f\"\\nBaixando usando format: {format_str}\")\n",
    "    baixar_video(url, format_str)"
   ]
  }
 ],
 "metadata": {
  "kernelspec": {
   "display_name": "Python 3",
   "language": "python",
   "name": "python3"
  },
  "language_info": {
   "codemirror_mode": {
    "name": "ipython",
    "version": 3
   },
   "file_extension": ".py",
   "mimetype": "text/x-python",
   "name": "python",
   "nbconvert_exporter": "python",
   "pygments_lexer": "ipython3",
   "version": "3.12.1"
  }
 },
 "nbformat": 4,
 "nbformat_minor": 5
}
